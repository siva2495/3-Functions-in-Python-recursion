{
 "cells": [
  {
   "cell_type": "markdown",
   "id": "9d525e9c",
   "metadata": {},
   "source": [
    "# Recursion#"
   ]
  },
  {
   "cell_type": "markdown",
   "id": "1ce0699c",
   "metadata": {},
   "source": [
    "*We will solve the problem of counting handshakes here.\n",
    "\n",
    "*First we, will code the iterative approach then, we will code the recursive approach."
   ]
  },
  {
   "cell_type": "code",
   "execution_count": 5,
   "id": "40a630e4",
   "metadata": {},
   "outputs": [],
   "source": [
    "#iterative approach\n",
    "def count_hand_shakes_iterative(total_persons_in_room):\n",
    "    count = 0\n",
    "    \n",
    "    for i in range(1, total_persons_in_room):\n",
    "        \n",
    "        for j in range(i+1, total_persons_in_room+1):\n",
    "            print(\"Hand Shake of\", i, \"and\", j)\n",
    "            count = count+1\n",
    "            \n",
    "        #total handshakes\n",
    "        print(\"total hand shakes:\", count)"
   ]
  },
  {
   "cell_type": "code",
   "execution_count": 6,
   "id": "66720cc0",
   "metadata": {},
   "outputs": [
    {
     "name": "stdout",
     "output_type": "stream",
     "text": [
      "Hand Shake of 1 and 2\n",
      "total hand shakes: 1\n"
     ]
    }
   ],
   "source": [
    "count_hand_shakes_iterative(2)"
   ]
  },
  {
   "cell_type": "code",
   "execution_count": 7,
   "id": "902a0588",
   "metadata": {},
   "outputs": [
    {
     "name": "stdout",
     "output_type": "stream",
     "text": [
      "Hand Shake of 1 and 2\n",
      "Hand Shake of 1 and 3\n",
      "Hand Shake of 1 and 4\n",
      "Hand Shake of 1 and 5\n",
      "total hand shakes: 4\n",
      "Hand Shake of 2 and 3\n",
      "Hand Shake of 2 and 4\n",
      "Hand Shake of 2 and 5\n",
      "total hand shakes: 7\n",
      "Hand Shake of 3 and 4\n",
      "Hand Shake of 3 and 5\n",
      "total hand shakes: 9\n",
      "Hand Shake of 4 and 5\n",
      "total hand shakes: 10\n"
     ]
    }
   ],
   "source": [
    "count_hand_shakes_iterative(total_persons_in_room=5)"
   ]
  },
  {
   "cell_type": "code",
   "execution_count": 19,
   "id": "9c672773",
   "metadata": {},
   "outputs": [],
   "source": [
    "#Recursive approach\n",
    "#define recursive function to count hand shakes\n",
    "def count_hand_shakes(total_persons_in_room):\n",
    "    \n",
    "    #base condition when number of person is 2 (one hand shakes)\n",
    "    if total_persons_in_room ==2:\n",
    "        return 1\n",
    "    \n",
    "    else:\n",
    "        #F(N)=F(N-1)+(N-1)\n",
    "        return count_hand_shakes(total_persons_in_room-1)+(total_persons_in_room-1)"
   ]
  },
  {
   "cell_type": "code",
   "execution_count": 20,
   "id": "e947f596",
   "metadata": {},
   "outputs": [
    {
     "data": {
      "text/plain": [
       "1"
      ]
     },
     "execution_count": 20,
     "metadata": {},
     "output_type": "execute_result"
    }
   ],
   "source": [
    "count_hand_shakes(total_persons_in_room=2)"
   ]
  },
  {
   "cell_type": "code",
   "execution_count": 22,
   "id": "1911f033",
   "metadata": {},
   "outputs": [
    {
     "data": {
      "text/plain": [
       "10"
      ]
     },
     "execution_count": 22,
     "metadata": {},
     "output_type": "execute_result"
    }
   ],
   "source": [
    "count_hand_shakes(total_persons_in_room=5)"
   ]
  },
  {
   "cell_type": "code",
   "execution_count": 23,
   "id": "9d658d25",
   "metadata": {},
   "outputs": [
    {
     "data": {
      "text/plain": [
       "6"
      ]
     },
     "execution_count": 23,
     "metadata": {},
     "output_type": "execute_result"
    }
   ],
   "source": [
    "count_hand_shakes(total_persons_in_room=4)"
   ]
  },
  {
   "cell_type": "markdown",
   "id": "f8ca16af",
   "metadata": {},
   "source": [
    "How does it work under the hood?"
   ]
  },
  {
   "cell_type": "code",
   "execution_count": 27,
   "id": "3a6cd72f",
   "metadata": {},
   "outputs": [],
   "source": [
    "#define recursive function to count handshakes\n",
    "def count_hand_shakes(total_persons_in_room):\n",
    "    \n",
    "    # Base Condition: When number of persons is 2 (One Handshake)\n",
    "    print(\"The function is called with:\", total_persons_in_room)\n",
    "    if total_persons_in_room == 2:\n",
    "        return 1\n",
    "    else:\n",
    "        return count_hand_shakes(total_persons_in_room-1)+(total_persons_in_room-1)"
   ]
  },
  {
   "cell_type": "code",
   "execution_count": 28,
   "id": "e2e479ac",
   "metadata": {},
   "outputs": [
    {
     "name": "stdout",
     "output_type": "stream",
     "text": [
      "The function is called with: 5\n",
      "The function is called with: 4\n",
      "The function is called with: 3\n",
      "The function is called with: 2\n"
     ]
    },
    {
     "data": {
      "text/plain": [
       "10"
      ]
     },
     "execution_count": 28,
     "metadata": {},
     "output_type": "execute_result"
    }
   ],
   "source": [
    "count_hand_shakes(total_persons_in_room=5)"
   ]
  },
  {
   "cell_type": "code",
   "execution_count": null,
   "id": "63620866",
   "metadata": {},
   "outputs": [],
   "source": [
    "#f(5) = f(4) + 4"
   ]
  },
  {
   "cell_type": "code",
   "execution_count": 29,
   "id": "e11f54e9",
   "metadata": {},
   "outputs": [
    {
     "name": "stdout",
     "output_type": "stream",
     "text": [
      "The function is called with: 4\n",
      "The function is called with: 3\n",
      "The function is called with: 2\n"
     ]
    }
   ],
   "source": [
    "result = count_hand_shakes(4)"
   ]
  },
  {
   "cell_type": "code",
   "execution_count": 30,
   "id": "75245360",
   "metadata": {},
   "outputs": [
    {
     "data": {
      "text/plain": [
       "10"
      ]
     },
     "execution_count": 30,
     "metadata": {},
     "output_type": "execute_result"
    }
   ],
   "source": [
    "result+4"
   ]
  },
  {
   "cell_type": "code",
   "execution_count": null,
   "id": "a16d6eca",
   "metadata": {},
   "outputs": [],
   "source": []
  }
 ],
 "metadata": {
  "kernelspec": {
   "display_name": "Python 3",
   "language": "python",
   "name": "python3"
  },
  "language_info": {
   "codemirror_mode": {
    "name": "ipython",
    "version": 3
   },
   "file_extension": ".py",
   "mimetype": "text/x-python",
   "name": "python",
   "nbconvert_exporter": "python",
   "pygments_lexer": "ipython3",
   "version": "3.8.8"
  }
 },
 "nbformat": 4,
 "nbformat_minor": 5
}
